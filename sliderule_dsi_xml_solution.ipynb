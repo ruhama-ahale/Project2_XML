{
 "cells": [
  {
   "cell_type": "markdown",
   "metadata": {},
   "source": [
    "# XML example and exercise\n",
    "****\n",
    "+ study examples of accessing nodes in XML tree structure  \n",
    "+ work on exercise to be completed and submitted\n",
    "****\n",
    "+ reference: https://docs.python.org/2.7/library/xml.etree.elementtree.html\n",
    "+ data source: http://www.dbis.informatik.uni-goettingen.de/Mondial\n",
    "****"
   ]
  },
  {
   "cell_type": "markdown",
   "metadata": {},
   "source": [
    "XML exercise\n",
    "Using data in 'data/mondial_database.xml', the examples above, and refering to https://docs.python.org/2.7/library/xml.etree.elementtree.html, find\n",
    "1) 10 countries with the lowest infant mortality rates\n",
    "2) 10 cities with the largest population\n",
    "3) 10 ethnic groups with the largest overall populations (sum of best/latest estimates over all countries)\n",
    "name and country of a) longest river, b) largest lake and c) airport at highest elevation"
   ]
  },
  {
   "cell_type": "code",
   "execution_count": 46,
   "metadata": {
    "collapsed": true
   },
   "outputs": [],
   "source": [
    "from xml.etree import ElementTree as ET\n",
    "document_tree = ET.parse( 'mondial_database.xml' ).getroot()"
   ]
  },
  {
   "cell_type": "code",
   "execution_count": 98,
   "metadata": {
    "collapsed": false
   },
   "outputs": [
    {
     "name": "stdout",
     "output_type": "stream",
     "text": [
      "The ten countries with lowest infant mortality rates are:\n",
      "Monaco 1.81\n",
      "Japan 2.13\n",
      "Norway 2.48\n",
      "Bermuda 2.48\n",
      "Singapore 2.53\n",
      "Sweden 2.6\n",
      "Czech Republic 2.63\n",
      "Hong Kong 2.73\n",
      "Macao 3.13\n",
      "Iceland 3.15\n"
     ]
    }
   ],
   "source": [
    "#Answer Q1\n",
    "# Print names and infant mortality rates \n",
    "# of countries with bottom 10 infant mortality rates \n",
    "\n",
    "# This removes the countries without infant mortality rate\n",
    "def countriesWithInfantMortalityDataAvailable(document_tree):\n",
    "    countries = []\n",
    "    for country in document_tree:\n",
    "        if (not(country.find('infant_mortality') is None)):\n",
    "            countries.append(country)\n",
    "    return countries\n",
    "\n",
    "# Remove the countries with infant mortality data\n",
    "countries = countriesWithInfantMortalityDataAvailable(document_tree)\n",
    "\n",
    "# Sort the countries in ascending order of infant mortality rate\n",
    "sorted_countries = sorted(countries, key=lambda country: float(country.find('infant_mortality').text))\n",
    "\n",
    "# Print the first 10 countries and their infant mortality rates\n",
    "print('The ten countries with lowest infant mortality rates are:')\n",
    "for country in sorted_countries[0:10]:\n",
    "    print(country.find('name').text + ' ' + country.find('infant_mortality').text)"
   ]
  },
  {
   "cell_type": "code",
   "execution_count": 105,
   "metadata": {
    "collapsed": false
   },
   "outputs": [
    {
     "name": "stdout",
     "output_type": "stream",
     "text": [
      "The ten cities with the largest population are:\n",
      "Shanghai 22315474\n",
      "Istanbul 13710512\n",
      "Mumbai 12442373\n",
      "Moskva 11979529\n",
      "Beijing 11716620\n",
      "São Paulo 11152344\n",
      "Tianjin 11090314\n",
      "Guangzhou 11071424\n",
      "Delhi 11034555\n",
      "Shenzhen 10358381\n"
     ]
    }
   ],
   "source": [
    "#Ans Q2\n",
    "# Iterates through all the cities in the tree\n",
    "# and gets the latest available population data for each city\n",
    "# If the population data is not available, it is assumed 0\n",
    "def findAllCities(document_tree):\n",
    "    cities = []\n",
    "    for city in document_tree.iter('city'):\n",
    "        new_city = {}\n",
    "        new_city['name'] = city.find('name').text\n",
    "        # If population data is not available, it is set to 0\n",
    "        if (city.find('population') is None):\n",
    "            new_city['population'] = '0'\n",
    "            # Else get the latest available population data\n",
    "        else:\n",
    "            latest_population = city.find('population')\n",
    "            for population in city.iterfind('population'):\n",
    "                if (int(population.attrib['year']) > int(latest_population.attrib['year'])):\n",
    "                    latest_population = population\n",
    "            new_city['population'] = latest_population.text\n",
    "        cities.append(new_city)\n",
    "    return cities\n",
    "\n",
    "# Find all cities with their population\n",
    "cities = findAllCities(document_tree)\n",
    "    \n",
    "# Sort the cities in descending order of population\n",
    "sorted_cities = sorted(cities, key=lambda city: int(city['population']), reverse = True)\n",
    "\n",
    "# Print the first 10 cities and their populations\n",
    "print(\"The ten cities with the largest population are:\")\n",
    "for city in sorted_cities[0:10]:\n",
    "    print(city['name'] + ' ' + city['population'])"
   ]
  },
  {
   "cell_type": "code",
   "execution_count": 100,
   "metadata": {
    "collapsed": false,
    "scrolled": true
   },
   "outputs": [
    {
     "name": "stdout",
     "output_type": "stream",
     "text": [
      "The ten ethnic groups with the largest overall population are:\n",
      "Han Chinese 1245058800\n",
      "Indo-Aryan 871815583\n",
      "European 494872201\n",
      "African 318325104\n",
      "Dravidian 302713744\n",
      "Mestizo 157734349\n",
      "Bengali 146776916\n",
      "Russian 131856989\n",
      "Japanese 126534212\n",
      "Malay 121993548\n"
     ]
    }
   ],
   "source": [
    "#Ans Q3\n",
    "# Iterates through all the ethnic groups in the countries in the tree\n",
    "# and gets the latest available population data for each ethnic groups for that country\n",
    "# by multiplying the population percentage by the latest population data available\n",
    "# If the population data is not available, it is assumed 0\n",
    "def getCountryWiseEthnicGroupPopulations(document_tree):\n",
    "    country_wise_ethnicgroup_populations = []\n",
    "    for country in document_tree.iterfind('country'):\n",
    "        country_population_distribution = {}\n",
    "        country_population_distribution['name'] = country.find('name').text\n",
    "        country_population = 0\n",
    "        # If population data is not available, it is 0\n",
    "        # Else get the latest available population data\n",
    "        if not(country.find('population') is None):\n",
    "            latest_population = country.find('population')\n",
    "            for population in country.iterfind('population'):\n",
    "                if (int(population.attrib['year']) > int(latest_population.attrib['year'])):\n",
    "                    latest_population = population\n",
    "            country_population = int(latest_population.text)\n",
    "            \n",
    "        # Get population for each ethnic group by multiplying the percentage\n",
    "        # with the latest available population\n",
    "        for ethnicgroup in country.iterfind('ethnicgroup'):\n",
    "            percentage = float(ethnicgroup.attrib['percentage'])\n",
    "            country_population_distribution[ethnicgroup.text] = int(percentage * country_population * 0.01)\n",
    "        \n",
    "        country_wise_ethnicgroup_populations.append(country_population_distribution)\n",
    "        \n",
    "    return country_wise_ethnicgroup_populations\n",
    "\n",
    "country_wise_ethnic_group_populations = getCountryWiseEthnicGroupPopulations(document_tree)\n",
    "\n",
    "# Get names of all the ethnic groups\n",
    "ethnic_group_names = []\n",
    "for element in document_tree.iter('ethnicgroup'):\n",
    "    ethnic_group_name = element.text\n",
    "    if not(ethnic_group_name in ethnic_group_names):\n",
    "        ethnic_group_names.append(ethnic_group_name)\n",
    "\n",
    "\n",
    "# Add all the populations by ethnic groups to get total population for each group        \n",
    "ethnic_groups = []\n",
    "for ethnic_group_name in ethnic_group_names:\n",
    "    ethnic_group = {}\n",
    "    ethnic_group['name'] = ethnic_group_name\n",
    "    population = 0\n",
    "    for country in country_wise_ethnic_group_populations:\n",
    "        if (ethnic_group_name in country):\n",
    "            population += country[ethnic_group_name]\n",
    "    ethnic_group['population'] = population\n",
    "    ethnic_groups.append(ethnic_group)\n",
    "\n",
    "# Sort the ethnic groups in descending order of population\n",
    "sorted_ethnic_groups = sorted(ethnic_groups, key=lambda ethnic_group: ethnic_group['population'], reverse = True)\n",
    "\n",
    "# Print the first 10 ethnic groups and their population\n",
    "print(\"The ten ethnic groups with the largest overall population are:\")\n",
    "for ethnic_group in sorted_ethnic_groups[0:10]:\n",
    "    print(ethnic_group['name'] + ' ' + str(ethnic_group['population']))"
   ]
  },
  {
   "cell_type": "code",
   "execution_count": 97,
   "metadata": {
    "collapsed": false
   },
   "outputs": [
    {
     "name": "stdout",
     "output_type": "stream",
     "text": [
      "The longest river is named Amazonas.\n",
      "Its length is 6448.0.\n",
      "It is located in the following countries:\n",
      "Colombia\n",
      "Brazil\n",
      "Peru\n",
      "\n",
      "\n",
      "The largest lake is named Caspian Sea.\n",
      "Its area is 386400.0.\n",
      "It is located in the following countries:\n",
      "Russia\n",
      "Azerbaijan\n",
      "Kazakhstan\n",
      "Iran\n",
      "Turkmenistan\n",
      "\n",
      "\n",
      "The airport at highest elevation is named El Alto Intl.\n",
      "Its elevation is 4063.0.\n",
      "It is located in the following countries:\n",
      "Bolivia\n"
     ]
    }
   ],
   "source": [
    "def countryNameForCode(countrycode):\n",
    "    for country in document_tree.iterfind('country'):\n",
    "        if country.attrib['car_code'] == countrycode:\n",
    "            return country.find('name').text\n",
    "\n",
    "rivers = []\n",
    "for river_element in document_tree.iter('river'):\n",
    "    river = {}\n",
    "    river['name'] = river_element.find('name').text\n",
    "    length = 0\n",
    "    if not(river_element.find('length') is None):\n",
    "        length = float(river_element.find('length').text)\n",
    "    river['length'] = length\n",
    "    river['country'] = river_element.attrib['country']\n",
    "    rivers.append(river)\n",
    "    \n",
    "longest_river = max(rivers, key=lambda river:river['length'])\n",
    "print(\"The longest river is named \" + longest_river['name'] + \".\")\n",
    "print(\"Its length is \" + str(longest_river['length']) + \".\")\n",
    "print(\"It is located in the following countries:\")\n",
    "for countrycode in longest_river['country'].split(' '):\n",
    "    print(countryNameForCode(countrycode))\n",
    "print(\"\\n\")\n",
    "\n",
    "lakes = []\n",
    "for lake_element in document_tree.iter('lake'):\n",
    "    lake = {}\n",
    "    lake['name'] = lake_element.find('name').text\n",
    "    lake_area = 0\n",
    "    lake_element_area = lake_element.find('area')\n",
    "    if not(lake_element_area is None):\n",
    "        lake_area = float(lake_element_area.text)\n",
    "    lake['area'] = lake_area\n",
    "    lake['country'] = lake_element.attrib['country']\n",
    "    lakes.append(lake)\n",
    "    \n",
    "largest_lake = max(lakes, key=lambda lake:lake['area'])\n",
    "print(\"The largest lake is named \" + largest_lake['name'] + \".\")\n",
    "print(\"Its area is \" + str(largest_lake['area']) + \".\")\n",
    "print(\"It is located in the following countries:\")\n",
    "for countrycode in largest_lake['country'].split(' '):\n",
    "    print(countryNameForCode(countrycode))\n",
    "print(\"\\n\")\n",
    "\n",
    "airports = []\n",
    "for airport_element in document_tree.iter('airport'):\n",
    "    airport = {}\n",
    "    airport['name'] = airport_element.find('name').text\n",
    "    airport_elevation = 0\n",
    "    airport_element_elevation = airport_element.find('elevation').text\n",
    "    if not(airport_element_elevation is None):\n",
    "        airport_elevation = float(airport_element_elevation)\n",
    "    airport['elevation'] = airport_elevation\n",
    "    airport['country'] = airport_element.attrib['country']\n",
    "    airports.append(airport)\n",
    "    \n",
    "airport_at_highest_elevation = max(airports, key=lambda airport:airport['elevation'])\n",
    "print(\"The airport at highest elevation is named \" + airport_at_highest_elevation['name'] + \".\")\n",
    "print(\"Its elevation is \" + str(airport_at_highest_elevation['elevation']) + \".\")\n",
    "print(\"It is located in the following countries:\")\n",
    "for countrycode in airport_at_highest_elevation['country'].split(' '):\n",
    "    print(countryNameForCode(countrycode))"
   ]
  },
  {
   "cell_type": "markdown",
   "metadata": {},
   "source": [
    "****\n",
    "## XML exercise\n",
    "\n",
    "Using data in 'data/mondial_database.xml', the examples above, and refering to https://docs.python.org/2.7/library/xml.etree.elementtree.html, find\n",
    "\n",
    "1. 10 countries with the lowest infant mortality rates\n",
    "2. 10 cities with the largest population\n",
    "3. 10 ethnic groups with the largest overall populations (sum of best/latest estimates over all countries)\n",
    "4. name and country of a) longest river, b) largest lake and c) airport at highest elevation"
   ]
  }
 ],
 "metadata": {
  "kernelspec": {
   "display_name": "Python 3",
   "language": "python",
   "name": "python3"
  },
  "language_info": {
   "codemirror_mode": {
    "name": "ipython",
    "version": 3
   },
   "file_extension": ".py",
   "mimetype": "text/x-python",
   "name": "python",
   "nbconvert_exporter": "python",
   "pygments_lexer": "ipython3",
   "version": "3.6.0"
  }
 },
 "nbformat": 4,
 "nbformat_minor": 0
}
